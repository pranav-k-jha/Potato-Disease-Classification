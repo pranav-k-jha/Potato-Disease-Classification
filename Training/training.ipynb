{
 "cells": [
  {
   "cell_type": "code",
   "execution_count": 2,
   "metadata": {},
   "outputs": [],
   "source": [
    "import tensorflow as tf\n",
    "from tensorflow import keras\n",
    "from keras import models, layers\n",
    "import matplotlib.pyplot as plt\n",
    "from IPython.display import HTML"
   ]
  },
  {
   "cell_type": "code",
   "execution_count": 3,
   "metadata": {},
   "outputs": [],
   "source": [
    "BATCH_SIZE = 32\n",
    "IMAGE_SIZE = 256\n",
    "CHANNELS=3\n",
    "EPOCHS=50"
   ]
  },
  {
   "cell_type": "code",
   "execution_count": 4,
   "metadata": {},
   "outputs": [
    {
     "name": "stdout",
     "output_type": "stream",
     "text": [
      "Found 2152 files belonging to 3 classes.\n"
     ]
    }
   ],
   "source": [
    "dataset = tf.keras.preprocessing.image_dataset_from_directory(\n",
    "    \"PlantVillage\",\n",
    "    seed=123,\n",
    "    shuffle=True,\n",
    "    image_size=(IMAGE_SIZE,IMAGE_SIZE),\n",
    "    batch_size=BATCH_SIZE\n",
    ")"
   ]
  },
  {
   "cell_type": "code",
   "execution_count": 5,
   "metadata": {},
   "outputs": [
    {
     "data": {
      "text/plain": [
       "['Potato___Early_blight', 'Potato___Late_blight', 'Potato___healthy']"
      ]
     },
     "execution_count": 5,
     "metadata": {},
     "output_type": "execute_result"
    }
   ],
   "source": [
    "class_names = dataset.class_names\n",
    "class_names"
   ]
  },
  {
   "cell_type": "code",
   "execution_count": 6,
   "metadata": {},
   "outputs": [
    {
     "data": {
      "text/plain": [
       "68"
      ]
     },
     "execution_count": 6,
     "metadata": {},
     "output_type": "execute_result"
    }
   ],
   "source": [
    "len(dataset)"
   ]
  },
  {
   "cell_type": "code",
   "execution_count": 9,
   "metadata": {},
   "outputs": [
    {
     "name": "stdout",
     "output_type": "stream",
     "text": [
      "tf.Tensor(\n",
      "[[[161. 146. 151.]\n",
      "  [147. 132. 137.]\n",
      "  [143. 128. 133.]\n",
      "  ...\n",
      "  [162. 142. 151.]\n",
      "  [163. 143. 152.]\n",
      "  [164. 144. 153.]]\n",
      "\n",
      " [[146. 131. 136.]\n",
      "  [147. 132. 137.]\n",
      "  [145. 130. 135.]\n",
      "  ...\n",
      "  [163. 143. 152.]\n",
      "  [164. 144. 153.]\n",
      "  [165. 145. 154.]]\n",
      "\n",
      " [[145. 130. 135.]\n",
      "  [147. 132. 137.]\n",
      "  [147. 132. 137.]\n",
      "  ...\n",
      "  [162. 142. 151.]\n",
      "  [163. 143. 152.]\n",
      "  [163. 143. 152.]]\n",
      "\n",
      " ...\n",
      "\n",
      " [[180. 166. 166.]\n",
      "  [182. 168. 168.]\n",
      "  [182. 168. 168.]\n",
      "  ...\n",
      "  [174. 159. 164.]\n",
      "  [171. 156. 161.]\n",
      "  [169. 154. 159.]]\n",
      "\n",
      " [[173. 159. 159.]\n",
      "  [180. 166. 166.]\n",
      "  [183. 169. 169.]\n",
      "  ...\n",
      "  [177. 162. 167.]\n",
      "  [173. 158. 163.]\n",
      "  [170. 155. 160.]]\n",
      "\n",
      " [[160. 146. 146.]\n",
      "  [172. 158. 158.]\n",
      "  [179. 165. 165.]\n",
      "  ...\n",
      "  [178. 163. 168.]\n",
      "  [175. 160. 165.]\n",
      "  [172. 157. 162.]]], shape=(256, 256, 3), dtype=float32)\n"
     ]
    },
    {
     "name": "stderr",
     "output_type": "stream",
     "text": [
      "2024-07-30 20:16:26.073485: W tensorflow/core/framework/local_rendezvous.cc:404] Local rendezvous is aborting with status: OUT_OF_RANGE: End of sequence\n"
     ]
    }
   ],
   "source": [
    "for image_batch, labels_batch in dataset.take(1):\n",
    "    print(image_batch[0])\n",
    "\n"
   ]
  },
  {
   "cell_type": "code",
   "execution_count": null,
   "metadata": {},
   "outputs": [],
   "source": []
  }
 ],
 "metadata": {
  "kernelspec": {
   "display_name": "base",
   "language": "python",
   "name": "python3"
  },
  "language_info": {
   "codemirror_mode": {
    "name": "ipython",
    "version": 3
   },
   "file_extension": ".py",
   "mimetype": "text/x-python",
   "name": "python",
   "nbconvert_exporter": "python",
   "pygments_lexer": "ipython3",
   "version": "3.11.7"
  }
 },
 "nbformat": 4,
 "nbformat_minor": 2
}
